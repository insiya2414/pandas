{
 "cells": [
  {
   "cell_type": "markdown",
   "id": "0310e275",
   "metadata": {},
   "source": [
    "### Importing necessary Libraries"
   ]
  },
  {
   "cell_type": "code",
   "execution_count": 1,
   "id": "05cb90ba",
   "metadata": {},
   "outputs": [],
   "source": [
    "# Importing pandas\n",
    "import pandas as pd"
   ]
  },
  {
   "cell_type": "markdown",
   "id": "9f9d0a4a",
   "metadata": {},
   "source": [
    "### Creating DataFrame"
   ]
  },
  {
   "cell_type": "code",
   "execution_count": null,
   "id": "efcc25f3",
   "metadata": {},
   "outputs": [
    {
     "name": "stdout",
     "output_type": "stream",
     "text": [
      "   a  b  c\n",
      "1  1  4  7\n",
      "2  2  5  8\n",
      "3  3  6  9\n"
     ]
    }
   ],
   "source": [
    "# Method 1: From dictionary {}\n",
    "df1 = pd.DataFrame({\n",
    "    \"a\": [1,2,3],\n",
    "    \"b\":[4,5,6],\n",
    "    \"c\":[7,8,9]\n",
    "}, index = [1,2,3])\n",
    "\n",
    "print(df1)"
   ]
  },
  {
   "cell_type": "code",
   "execution_count": null,
   "id": "0ccbdec0",
   "metadata": {},
   "outputs": [
    {
     "name": "stdout",
     "output_type": "stream",
     "text": [
      "   a  b  c\n",
      "1  1  2  3\n",
      "2  4  5  6\n",
      "3  7  8  9\n"
     ]
    }
   ],
   "source": [
    "# Method 2: From lists of lists []\n",
    "df2 = pd.DataFrame(\n",
    "    [[1,2,3],\n",
    "     [4,5,6],\n",
    "     [7,8,9]],\n",
    "     index = [1,2,3],\n",
    "     columns = ['a','b','c']\n",
    ")\n",
    "\n",
    "print(df2)"
   ]
  },
  {
   "cell_type": "code",
   "execution_count": 7,
   "id": "dd3bff1d",
   "metadata": {},
   "outputs": [
    {
     "name": "stdout",
     "output_type": "stream",
     "text": [
      "     a  b   c\n",
      "n v          \n",
      "d 1  4  7  10\n",
      "e 2  5  8  11\n"
     ]
    }
   ],
   "source": [
    "# Method 3: With MultiIndex\n",
    "index = pd.MultiIndex.from_tuples(\n",
    "    [('d', 1), ('e', 2)],\n",
    "    names=['n', 'v']\n",
    ")\n",
    "df3 = pd.DataFrame({\n",
    "    \"a\": [4, 5],\n",
    "    \"b\": [7, 8],\n",
    "    \"c\": [10, 11]\n",
    "}, index=index)\n",
    "\n",
    "print(df3)"
   ]
  },
  {
   "cell_type": "markdown",
   "id": "c6f088aa",
   "metadata": {},
   "source": [
    "### Importing Dummy Dataset"
   ]
  },
  {
   "cell_type": "code",
   "execution_count": 17,
   "id": "1bdda430",
   "metadata": {},
   "outputs": [
    {
     "data": {
      "text/html": [
       "<div>\n",
       "<style scoped>\n",
       "    .dataframe tbody tr th:only-of-type {\n",
       "        vertical-align: middle;\n",
       "    }\n",
       "\n",
       "    .dataframe tbody tr th {\n",
       "        vertical-align: top;\n",
       "    }\n",
       "\n",
       "    .dataframe thead th {\n",
       "        text-align: right;\n",
       "    }\n",
       "</style>\n",
       "<table border=\"1\" class=\"dataframe\">\n",
       "  <thead>\n",
       "    <tr style=\"text-align: right;\">\n",
       "      <th></th>\n",
       "      <th>Name</th>\n",
       "      <th>Age</th>\n",
       "      <th>Height_cm</th>\n",
       "      <th>Weight_kg</th>\n",
       "      <th>Department</th>\n",
       "      <th>Score</th>\n",
       "    </tr>\n",
       "  </thead>\n",
       "  <tbody>\n",
       "    <tr>\n",
       "      <th>0</th>\n",
       "      <td>Alice</td>\n",
       "      <td>25</td>\n",
       "      <td>165</td>\n",
       "      <td>55</td>\n",
       "      <td>Sales</td>\n",
       "      <td>88</td>\n",
       "    </tr>\n",
       "    <tr>\n",
       "      <th>1</th>\n",
       "      <td>Bob</td>\n",
       "      <td>30</td>\n",
       "      <td>180</td>\n",
       "      <td>85</td>\n",
       "      <td>Engineering</td>\n",
       "      <td>92</td>\n",
       "    </tr>\n",
       "    <tr>\n",
       "      <th>2</th>\n",
       "      <td>Charlie</td>\n",
       "      <td>35</td>\n",
       "      <td>175</td>\n",
       "      <td>78</td>\n",
       "      <td>HR</td>\n",
       "      <td>95</td>\n",
       "    </tr>\n",
       "    <tr>\n",
       "      <th>3</th>\n",
       "      <td>Diana</td>\n",
       "      <td>40</td>\n",
       "      <td>160</td>\n",
       "      <td>60</td>\n",
       "      <td>Engineering</td>\n",
       "      <td>70</td>\n",
       "    </tr>\n",
       "    <tr>\n",
       "      <th>4</th>\n",
       "      <td>Eve</td>\n",
       "      <td>22</td>\n",
       "      <td>155</td>\n",
       "      <td>50</td>\n",
       "      <td>Sales</td>\n",
       "      <td>85</td>\n",
       "    </tr>\n",
       "  </tbody>\n",
       "</table>\n",
       "</div>"
      ],
      "text/plain": [
       "      Name  Age  Height_cm  Weight_kg   Department  Score\n",
       "0    Alice   25        165         55        Sales     88\n",
       "1      Bob   30        180         85  Engineering     92\n",
       "2  Charlie   35        175         78           HR     95\n",
       "3    Diana   40        160         60  Engineering     70\n",
       "4      Eve   22        155         50        Sales     85"
      ]
     },
     "execution_count": 17,
     "metadata": {},
     "output_type": "execute_result"
    }
   ],
   "source": [
    "df = pd.read_csv(\"Dummy_Dataset.csv\")\n",
    "df.head()"
   ]
  },
  {
   "cell_type": "markdown",
   "id": "7b232294",
   "metadata": {},
   "source": [
    "### Reshaping Data"
   ]
  },
  {
   "cell_type": "code",
   "execution_count": null,
   "id": "8dac0d5c",
   "metadata": {},
   "outputs": [
    {
     "name": "stdout",
     "output_type": "stream",
     "text": [
      "       Name variable  value\n",
      "0     Alice      Age     25\n",
      "1       Bob      Age     30\n",
      "2   Charlie      Age     35\n",
      "3     Diana      Age     40\n",
      "4       Eve      Age     22\n",
      "5     Frank      Age     29\n",
      "6     Grace      Age     33\n",
      "7      Hank      Age     38\n",
      "8       Ivy      Age     26\n",
      "9      Jack      Age     31\n",
      "10    Alice    Score     88\n",
      "11      Bob    Score     92\n",
      "12  Charlie    Score     95\n",
      "13    Diana    Score     70\n",
      "14      Eve    Score     85\n",
      "15    Frank    Score     79\n",
      "16    Grace    Score     91\n",
      "17     Hank    Score     68\n",
      "18      Ivy    Score     76\n",
      "19     Jack    Score     84\n"
     ]
    }
   ],
   "source": [
    "# Melting : to transform a wide-format DataFrame into a long-format one\n",
    "df_melted = pd.melt(df, id_vars = [\"Name\"], value_vars = [\"Age\", \"Score\"])\n",
    "print(df_melted)\n",
    "\n",
    "# id_vars=[\"Name\"]: This column stays as-is (not \"melted\").\n",
    "# value_vars=[\"Age\", \"Score\"]: These columns are unpivoted — their names go into a new column called \"variable\", and their values go into a column called \"value\"."
   ]
  },
  {
   "cell_type": "code",
   "execution_count": null,
   "id": "dc88c5fd",
   "metadata": {},
   "outputs": [
    {
     "name": "stdout",
     "output_type": "stream",
     "text": [
      "Department  Engineering    HR  Marketing  Sales\n",
      "0                   NaN   NaN        NaN   88.0\n",
      "1                  92.0   NaN        NaN    NaN\n",
      "2                   NaN  95.0        NaN    NaN\n",
      "3                  70.0   NaN        NaN    NaN\n",
      "4                   NaN   NaN        NaN   85.0\n",
      "5                   NaN  79.0        NaN    NaN\n",
      "6                   NaN   NaN       91.0    NaN\n",
      "7                   NaN   NaN       68.0    NaN\n",
      "8                  76.0   NaN        NaN    NaN\n",
      "9                   NaN   NaN        NaN   84.0\n"
     ]
    }
   ],
   "source": [
    "# Pivot\n",
    "df_pivot = df[[\"Department\",\"Score\"]].pivot(columns = \"Department\", values = \"Score\")\n",
    "print(df_pivot)\n",
    "\n",
    "# pivot(columns=\"Department\", values=\"Score\") tries to turn Department values into columns.\n",
    "# pivot_df = df.pivot(index=\"Employee\", columns=\"Department\", values=\"Score\")"
   ]
  },
  {
   "cell_type": "code",
   "execution_count": 28,
   "id": "b317a6fe",
   "metadata": {},
   "outputs": [
    {
     "name": "stdout",
     "output_type": "stream",
     "text": [
      "      Name  Age  Height_cm  Weight_kg   Department  Score\n",
      "0    Alice   25        165         55        Sales     88\n",
      "1      Bob   30        180         85  Engineering     92\n",
      "2  Charlie   35        175         78           HR     95\n",
      "3     Hank   38        182         90    Marketing     68\n",
      "4      Ivy   26        158         52  Engineering     76\n",
      "5     Jack   31        177         80        Sales     84\n"
     ]
    }
   ],
   "source": [
    "# Concat\n",
    "df_concat = pd.concat([df.head(3), df.tail(3)],axis = 0).reset_index(drop = True)\n",
    "print(df_concat)\n",
    "# axis = 0 : stacks them vertically (row-wise)\n"
   ]
  },
  {
   "cell_type": "markdown",
   "id": "a628ec4a",
   "metadata": {},
   "source": [
    "### Subset Observation"
   ]
  },
  {
   "cell_type": "code",
   "execution_count": 31,
   "id": "9ad45319",
   "metadata": {},
   "outputs": [
    {
     "name": "stdout",
     "output_type": "stream",
     "text": [
      "\n",
      "People older than 30:\n",
      "       Name  Age  Height_cm  Weight_kg   Department  Score\n",
      "2  Charlie   35        175         78           HR     95\n",
      "3    Diana   40        160         60  Engineering     70\n",
      "6    Grace   33        168         65    Marketing     91\n",
      "7     Hank   38        182         90    Marketing     68\n",
      "9     Jack   31        177         80        Sales     84\n"
     ]
    }
   ],
   "source": [
    "# Filter rows\n",
    "print(\"\\nPeople older than 30:\\n\", df[df[\"Age\"] > 30])"
   ]
  },
  {
   "cell_type": "code",
   "execution_count": 32,
   "id": "0b6f8aec",
   "metadata": {},
   "outputs": [
    {
     "name": "stdout",
     "output_type": "stream",
     "text": [
      "\n",
      "Drop duplicate departments:\n",
      "       Name  Age  Height_cm  Weight_kg   Department  Score\n",
      "0    Alice   25        165         55        Sales     88\n",
      "1      Bob   30        180         85  Engineering     92\n",
      "2  Charlie   35        175         78           HR     95\n",
      "6    Grace   33        168         65    Marketing     91\n"
     ]
    }
   ],
   "source": [
    "# Drop duplicates\n",
    "print(\"\\nDrop duplicate departments:\\n\" , df.drop_duplicates(\"Department\"))"
   ]
  },
  {
   "cell_type": "code",
   "execution_count": 58,
   "id": "3ac8b748",
   "metadata": {},
   "outputs": [
    {
     "name": "stdout",
     "output_type": "stream",
     "text": [
      "\n",
      "Drop columns:\n",
      "       Name  Age   Department  Score\n",
      "0    Alice   25        Sales     88\n",
      "1      Bob   30  Engineering     92\n",
      "2  Charlie   35           HR     95\n",
      "3    Diana   40  Engineering     70\n",
      "4      Eve   22        Sales     85\n",
      "5    Frank   29           HR     79\n",
      "6    Grace   33    Marketing     91\n",
      "7     Hank   38    Marketing     68\n",
      "8      Ivy   26  Engineering     76\n",
      "9     Jack   31        Sales     84\n"
     ]
    }
   ],
   "source": [
    "# Drop columns\n",
    "print(\"\\nDrop columns:\\n\" , df.drop(columns = [\"Height_cm\" , \"Weight_kg\"]))"
   ]
  },
  {
   "cell_type": "code",
   "execution_count": 37,
   "id": "a903b586",
   "metadata": {},
   "outputs": [
    {
     "name": "stdout",
     "output_type": "stream",
     "text": [
      "\n",
      "Random Sample\n",
      ":       Name  Age  Height_cm  Weight_kg Department  Score\n",
      "2  Charlie   35        175         78         HR     95\n",
      "0    Alice   25        165         55      Sales     88\n",
      "7     Hank   38        182         90  Marketing     68\n"
     ]
    }
   ],
   "source": [
    "# Random sample\n",
    "print(\"\\nRandom Sample\\n:\" ,df.sample(3))"
   ]
  },
  {
   "cell_type": "code",
   "execution_count": 38,
   "id": "1e731c5b",
   "metadata": {},
   "outputs": [
    {
     "name": "stdout",
     "output_type": "stream",
     "text": [
      "\n",
      "Top 3 by score:\n",
      "       Name  Age  Height_cm  Weight_kg   Department  Score\n",
      "2  Charlie   35        175         78           HR     95\n",
      "1      Bob   30        180         85  Engineering     92\n",
      "6    Grace   33        168         65    Marketing     91\n"
     ]
    }
   ],
   "source": [
    "# Top 3 by score\n",
    "print(\"\\nTop 3 by score:\\n\" , df.nlargest(3, \"Score\"))"
   ]
  },
  {
   "cell_type": "code",
   "execution_count": 39,
   "id": "dde8a833",
   "metadata": {},
   "outputs": [
    {
     "name": "stdout",
     "output_type": "stream",
     "text": [
      "\n",
      "Bottom 3 by score:\n",
      "     Name  Age  Height_cm  Weight_kg   Department  Score\n",
      "7   Hank   38        182         90    Marketing     68\n",
      "3  Diana   40        160         60  Engineering     70\n",
      "8    Ivy   26        158         52  Engineering     76\n"
     ]
    }
   ],
   "source": [
    "# Bottom 3 by score\n",
    "print(\"\\nBottom 3 by score:\\n\" , df.nsmallest(3, \"Score\"))"
   ]
  },
  {
   "cell_type": "markdown",
   "id": "3361b3f9",
   "metadata": {},
   "source": [
    "### Subset Columns"
   ]
  },
  {
   "cell_type": "code",
   "execution_count": 40,
   "id": "56f46725",
   "metadata": {},
   "outputs": [
    {
     "name": "stdout",
     "output_type": "stream",
     "text": [
      "\n",
      "Select Name and Department:\n",
      "       Name   Department\n",
      "0    Alice        Sales\n",
      "1      Bob  Engineering\n",
      "2  Charlie           HR\n",
      "3    Diana  Engineering\n",
      "4      Eve        Sales\n",
      "5    Frank           HR\n",
      "6    Grace    Marketing\n",
      "7     Hank    Marketing\n",
      "8      Ivy  Engineering\n",
      "9     Jack        Sales\n"
     ]
    }
   ],
   "source": [
    "# Select multiple columns\n",
    "print(\"\\nSelect Name and Department:\\n\", df[[\"Name\", \"Department\"]])"
   ]
  },
  {
   "cell_type": "code",
   "execution_count": 41,
   "id": "a8febe10",
   "metadata": {},
   "outputs": [
    {
     "name": "stdout",
     "output_type": "stream",
     "text": [
      "\n",
      "Regex match ('_cm') columns:\n",
      "    Height_cm\n",
      "0        165\n",
      "1        180\n",
      "2        175\n",
      "3        160\n",
      "4        155\n",
      "5        170\n",
      "6        168\n",
      "7        182\n",
      "8        158\n",
      "9        177\n"
     ]
    }
   ],
   "source": [
    "# Regex match columns\n",
    "print(\"\\nRegex match ('_cm') columns:\\n\", df.filter(regex=\"_cm\"))"
   ]
  },
  {
   "cell_type": "markdown",
   "id": "68146a9b",
   "metadata": {},
   "source": [
    "### Row + Column Subset"
   ]
  },
  {
   "cell_type": "code",
   "execution_count": 43,
   "id": "76480a51",
   "metadata": {},
   "outputs": [
    {
     "name": "stdout",
     "output_type": "stream",
     "text": [
      "\n",
      "Rows 2 to 5:\n",
      "       Name  Age  Height_cm  Weight_kg   Department  Score\n",
      "2  Charlie   35        175         78           HR     95\n",
      "3    Diana   40        160         60  Engineering     70\n",
      "4      Eve   22        155         50        Sales     85\n"
     ]
    }
   ],
   "source": [
    "# iloc - index-based\n",
    "print(\"\\nRows 2 to 5:\\n\", df.iloc[2:5])"
   ]
  },
  {
   "cell_type": "code",
   "execution_count": 44,
   "id": "ac2bd98e",
   "metadata": {},
   "outputs": [
    {
     "name": "stdout",
     "output_type": "stream",
     "text": [
      "\n",
      "Rows where Score > 90:\n",
      "       Name  Score\n",
      "1      Bob     92\n",
      "2  Charlie     95\n",
      "6    Grace     91\n"
     ]
    }
   ],
   "source": [
    "# loc - label-based\n",
    "print(\"\\nRows where Score > 90:\\n\", df.loc[df['Score'] > 90, ['Name', 'Score']])"
   ]
  },
  {
   "cell_type": "code",
   "execution_count": null,
   "id": "1a1499e6",
   "metadata": {},
   "outputs": [
    {
     "name": "stdout",
     "output_type": "stream",
     "text": [
      "\n",
      "Score of Charlie:\n",
      " 95\n"
     ]
    }
   ],
   "source": [
    "# at - single value - label based access\n",
    "print(\"\\nScore of Charlie:\\n\", df.at[2, 'Score'])\n",
    "\n",
    "# index labeled 2"
   ]
  },
  {
   "cell_type": "code",
   "execution_count": null,
   "id": "58babc7e",
   "metadata": {},
   "outputs": [
    {
     "name": "stdout",
     "output_type": "stream",
     "text": [
      "\n",
      "Height of 3rd person:\n",
      " 175\n"
     ]
    }
   ],
   "source": [
    "# iat - single value using index - position based access\n",
    "print(\"\\nHeight of 3rd person:\\n\", df.iat[2, 2])\n",
    "\n",
    "# 2(row), 2 (column) — both are zero-based integer positions.\n",
    "# it returns the value at 3rd row, 3rd column of the DataFrame."
   ]
  },
  {
   "cell_type": "markdown",
   "id": "c86e0947",
   "metadata": {},
   "source": [
    "### Sorting, Renaming"
   ]
  },
  {
   "cell_type": "code",
   "execution_count": 47,
   "id": "16936344",
   "metadata": {},
   "outputs": [
    {
     "name": "stdout",
     "output_type": "stream",
     "text": [
      "\n",
      "Sorted by Score Desc:\n",
      "       Name  Age  Height_cm  Weight_kg   Department  Score\n",
      "2  Charlie   35        175         78           HR     95\n",
      "1      Bob   30        180         85  Engineering     92\n",
      "6    Grace   33        168         65    Marketing     91\n",
      "0    Alice   25        165         55        Sales     88\n",
      "4      Eve   22        155         50        Sales     85\n",
      "9     Jack   31        177         80        Sales     84\n",
      "5    Frank   29        170         73           HR     79\n",
      "8      Ivy   26        158         52  Engineering     76\n",
      "3    Diana   40        160         60  Engineering     70\n",
      "7     Hank   38        182         90    Marketing     68\n"
     ]
    }
   ],
   "source": [
    "# Sort by Score descending\n",
    "print(\"\\nSorted by Score Desc:\\n\", df.sort_values(\"Score\", ascending=False))"
   ]
  },
  {
   "cell_type": "code",
   "execution_count": 48,
   "id": "fbe76ceb",
   "metadata": {},
   "outputs": [
    {
     "name": "stdout",
     "output_type": "stream",
     "text": [
      "\n",
      "Renamed column:\n",
      "       Name  Age  HeightCM  Weight_kg   Department  Score\n",
      "0    Alice   25       165         55        Sales     88\n",
      "1      Bob   30       180         85  Engineering     92\n",
      "2  Charlie   35       175         78           HR     95\n",
      "3    Diana   40       160         60  Engineering     70\n",
      "4      Eve   22       155         50        Sales     85\n"
     ]
    }
   ],
   "source": [
    "# Rename column\n",
    "df_renamed = df.rename(columns={\"Height_cm\": \"HeightCM\"})\n",
    "print(\"\\nRenamed column:\\n\", df_renamed.head())"
   ]
  },
  {
   "cell_type": "code",
   "execution_count": 49,
   "id": "ccadd8bc",
   "metadata": {},
   "outputs": [
    {
     "name": "stdout",
     "output_type": "stream",
     "text": [
      "\n",
      "Reset index:\n",
      "    index     Name  Age  Height_cm  Weight_kg   Department  Score\n",
      "0      0    Alice   25        165         55        Sales     88\n",
      "1      1      Bob   30        180         85  Engineering     92\n",
      "2      2  Charlie   35        175         78           HR     95\n",
      "3      3    Diana   40        160         60  Engineering     70\n",
      "4      4      Eve   22        155         50        Sales     85\n",
      "5      5    Frank   29        170         73           HR     79\n",
      "6      6    Grace   33        168         65    Marketing     91\n",
      "7      7     Hank   38        182         90    Marketing     68\n",
      "8      8      Ivy   26        158         52  Engineering     76\n",
      "9      9     Jack   31        177         80        Sales     84\n"
     ]
    }
   ],
   "source": [
    "# Reset index\n",
    "print(\"\\nReset index:\\n\", df.reset_index())"
   ]
  },
  {
   "cell_type": "markdown",
   "id": "832b774d",
   "metadata": {},
   "source": [
    "### Using query()"
   ]
  },
  {
   "cell_type": "code",
   "execution_count": 50,
   "id": "1dbf81b3",
   "metadata": {},
   "outputs": [
    {
     "name": "stdout",
     "output_type": "stream",
     "text": [
      "\n",
      "Query age > 30 and Score > 80:\n",
      "       Name  Age  Height_cm  Weight_kg Department  Score\n",
      "2  Charlie   35        175         78         HR     95\n",
      "6    Grace   33        168         65  Marketing     91\n",
      "9     Jack   31        177         80      Sales     84\n",
      "\n",
      "\n",
      "Query department starts with 'E':\n",
      "     Name  Age  Height_cm  Weight_kg   Department  Score\n",
      "1    Bob   30        180         85  Engineering     92\n",
      "3  Diana   40        160         60  Engineering     70\n",
      "8    Ivy   26        158         52  Engineering     76\n"
     ]
    }
   ],
   "source": [
    "print(\"\\nQuery age > 30 and Score > 80:\\n\", df.query(\"Age > 30 and Score > 80\"))\n",
    "print()\n",
    "print(\"\\nQuery department starts with 'E':\\n\", df.query(\"Department.str.startswith('E')\", engine=\"python\"))"
   ]
  },
  {
   "cell_type": "markdown",
   "id": "91aa8419",
   "metadata": {},
   "source": [
    "### Method Chaining"
   ]
  },
  {
   "cell_type": "code",
   "execution_count": 55,
   "id": "b17c2259",
   "metadata": {},
   "outputs": [
    {
     "name": "stdout",
     "output_type": "stream",
     "text": [
      "   index     Name  Age  Height_cm  Weight_kg   Department  TestScore\n",
      "0      2  Charlie   35        175         78           HR         95\n",
      "1      6    Grace   33        168         65    Marketing         91\n",
      "2      9     Jack   31        177         80        Sales         84\n",
      "3      3    Diana   40        160         60  Engineering         70\n",
      "4      7     Hank   38        182         90    Marketing         68\n"
     ]
    }
   ],
   "source": [
    "result = (\n",
    "    df\n",
    "    .rename(columns = {\"Score\" : \"TestScore\"})\n",
    "    .query(\"Age > 30\")\n",
    "    .sort_values(\"TestScore\" , ascending = False)\n",
    "    .head(5)\n",
    "    .reset_index()\n",
    ")\n",
    "\n",
    "print(result)"
   ]
  },
  {
   "cell_type": "markdown",
   "id": "38a8feed",
   "metadata": {},
   "source": [
    "### Logic & Regex"
   ]
  },
  {
   "cell_type": "code",
   "execution_count": 53,
   "id": "a7dfe3e7",
   "metadata": {},
   "outputs": [
    {
     "name": "stdout",
     "output_type": "stream",
     "text": [
      "\n",
      "Using logic: Find people in HR and Score > 80:\n",
      "       Name  Age  Height_cm  Weight_kg Department  Score\n",
      "2  Charlie   35        175         78         HR     95\n"
     ]
    }
   ],
   "source": [
    "print(\"\\nUsing logic: Find people in HR and Score > 80:\\n\", df[(df[\"Department\"] == \"HR\") & (df[\"Score\"] > 80)])\n"
   ]
  },
  {
   "cell_type": "code",
   "execution_count": 68,
   "id": "864d705c",
   "metadata": {},
   "outputs": [
    {
     "name": "stdout",
     "output_type": "stream",
     "text": [
      "    Name    Age  Height_cm  Weight_kg  Department  Score\n",
      "0  False  False      False      False       False  False\n",
      "1  False  False      False      False       False  False\n",
      "2  False  False      False      False       False  False\n",
      "3  False  False      False      False       False  False\n",
      "4  False  False      False      False       False  False\n",
      "5  False  False      False      False       False  False\n",
      "6  False  False      False      False       False  False\n",
      "7  False  False      False      False       False  False\n",
      "8  False  False      False      False       False  False\n",
      "9  False  False      False      False       False  False\n"
     ]
    },
    {
     "data": {
      "text/plain": [
       "0    True\n",
       "1    True\n",
       "2    True\n",
       "3    True\n",
       "4    True\n",
       "5    True\n",
       "6    True\n",
       "7    True\n",
       "8    True\n",
       "9    True\n",
       "Name: Name, dtype: bool"
      ]
     },
     "execution_count": 68,
     "metadata": {},
     "output_type": "execute_result"
    }
   ],
   "source": [
    "# This checks the entire DataFrame for missing (null/NaN) values.\n",
    "print(df.isnull())\n",
    "\n",
    "# This checks if the string \"Name\" is NOT null.\n",
    "pd.notnull(\"Name\")\n",
    "# OR\n",
    "df[\"Name\"].notnull()"
   ]
  }
 ],
 "metadata": {
  "kernelspec": {
   "display_name": "Python 3",
   "language": "python",
   "name": "python3"
  },
  "language_info": {
   "codemirror_mode": {
    "name": "ipython",
    "version": 3
   },
   "file_extension": ".py",
   "mimetype": "text/x-python",
   "name": "python",
   "nbconvert_exporter": "python",
   "pygments_lexer": "ipython3",
   "version": "3.11.9"
  }
 },
 "nbformat": 4,
 "nbformat_minor": 5
}
